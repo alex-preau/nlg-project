{
 "cells": [
  {
   "cell_type": "markdown",
   "metadata": {},
   "source": [
    "# Syllable conditioned GAN training"
   ]
  },
  {
   "cell_type": "code",
   "execution_count": null,
   "metadata": {},
   "outputs": [],
   "source": [
    "from transformers import BartTokenizer, BartModel,BartForConditionalGeneration\n",
    "from torch.distributions import Categorical\n",
    "import pandas as pd\n",
    "import torch.nn as nn\n",
    "from undecorated import undecorated\n",
    "import numpy as np\n",
    "from datasets import load_metric\n",
    "import torch\n",
    "from sklearn.model_selection import train_test_split\n",
    "from torch.utils.data import Dataset,DataLoader\n",
    "from transformers import  Seq2SeqTrainingArguments, Seq2SeqTrainer,DataCollatorForSeq2Seq\n",
    "metric = load_metric(\"rouge\")\n",
    "import torch.optim as optim\n",
    "import torchvision.utils as vutils\n",
    "import types\n",
    "import matplotlib.pyplot as plt\n",
    "from torch.distributions import Categorical\n",
    "import random\n",
    "#from torch.linalg import norm"
   ]
  },
  {
   "cell_type": "code",
   "execution_count": null,
   "metadata": {},
   "outputs": [],
   "source": [
    "from gan_utils import get_end_mask,get_valid_mask,Discriminator,discriminator_train_standard, generate_random_input_syllables,reinforce_loss_syllables,Generator\n"
   ]
  },
  {
   "cell_type": "code",
   "execution_count": null,
   "metadata": {},
   "outputs": [],
   "source": [
    "from utils import PoemDataset,encode_sentences_wsyl"
   ]
  },
  {
   "cell_type": "code",
   "execution_count": null,
   "metadata": {},
   "outputs": [],
   "source": [
    "tokenizer = BartTokenizer.from_pretrained('facebook/bart-base')\n",
    "#generator = BartForConditionalGeneration.from_pretrained('facebook/bart-base')"
   ]
  },
  {
   "cell_type": "code",
   "execution_count": null,
   "metadata": {},
   "outputs": [],
   "source": []
  },
  {
   "cell_type": "code",
   "execution_count": null,
   "metadata": {},
   "outputs": [],
   "source": []
  },
  {
   "cell_type": "code",
   "execution_count": 13,
   "metadata": {},
   "outputs": [],
   "source": []
  },
  {
   "cell_type": "code",
   "execution_count": 7,
   "metadata": {},
   "outputs": [],
   "source": []
  },
  {
   "cell_type": "markdown",
   "metadata": {},
   "source": [
    "# Construct syllable dictionary\n",
    "\n",
    "\n",
    "every random input will have syllables 5-7-5 (+1,0) (some noise so discriminator hopefully wont learn just this, and because real data has some noise)"
   ]
  },
  {
   "cell_type": "code",
   "execution_count": null,
   "metadata": {},
   "outputs": [],
   "source": [
    "#here im making a dictionary of all tokens and their associated syllable count\n",
    "from nltk.tokenize import SyllableTokenizer\n",
    "syllable_dict = {}\n",
    "for token in range(50265):\n",
    "    syl_tokenizer = SyllableTokenizer()\n",
    "    t = torch.tensor(token)\n",
    "    #print(tokenizer.decode(t),len(syl_tokenizer.tokenize(tokenizer.decode(t).strip())))\n",
    "    syllable_dict[token] = len(syl_tokenizer.tokenize(tokenizer.decode(t).strip()))\n",
    "syllable_dict[0] = 0\n",
    "syllable_dict[2] = 0\n",
    "syllable_dict[1] = 0\n",
    "syllable_dict[50118] = 0"
   ]
  },
  {
   "cell_type": "code",
   "execution_count": null,
   "metadata": {},
   "outputs": [],
   "source": []
  },
  {
   "cell_type": "code",
   "execution_count": 19,
   "metadata": {},
   "outputs": [],
   "source": [
    "#(logprob[0])"
   ]
  },
  {
   "cell_type": "code",
   "execution_count": 16,
   "metadata": {},
   "outputs": [],
   "source": [
    "#(tokens[0])"
   ]
  },
  {
   "cell_type": "code",
   "execution_count": 17,
   "metadata": {},
   "outputs": [],
   "source": [
    "#g = Generator().cuda()"
   ]
  },
  {
   "cell_type": "markdown",
   "metadata": {},
   "source": [
    "# Data\n"
   ]
  },
  {
   "cell_type": "code",
   "execution_count": null,
   "metadata": {},
   "outputs": [],
   "source": [
    "def syllable_vec(row):\n",
    "    return [row['line_0_scount'],row['line_1_scount'],row['line_2_scount']]\n",
    "\n",
    "def change_title(row):\n",
    "    #adds syllable info to title\n",
    "    #print(row['Title'])\n",
    "    return str(row['syllables']) + ';' + str(row['Title'])\n",
    "\n",
    "def add_syllables_title(part_df, match_df):\n",
    "    merged = pd.merge(part_df, match_df,how='left', left_on=['Unnamed: 0'], right_index=True)\n",
    "    merged['syllables'] = merged.apply(syllable_vec,axis=1)\n",
    "    merged.drop(columns=['Unnamed: 0_x', 'Unnamed: 0_y','line_0','line_1','line_2','source','valid','line_0_scount',\n",
    "                        'line_1_scount','line_2_scount'],inplace=True)\n",
    "    merged['Title'] = merged.apply(change_title,axis=1)\n",
    "    \n",
    "    return merged"
   ]
  },
  {
   "cell_type": "code",
   "execution_count": null,
   "metadata": {},
   "outputs": [],
   "source": [
    "processed_data_dir =  '/home/alexander/nlg-project/data/'\n",
    "test_df = pd.read_csv(processed_data_dir + 'test_data.csv')\n",
    "train_df = pd.read_csv(processed_data_dir + 'train_data.csv')\n",
    "whole_df = pd.read_csv(processed_data_dir + 'kaggle_data.csv')\n",
    "\n",
    "\n",
    "train_df = add_syllables_title(train_df,whole_df)\n",
    "test_df = add_syllables_title(test_df,whole_df)\n",
    "\n",
    "test_model = encode_sentences_wsyl(tokenizer,test_df)\n",
    "\n",
    "\n",
    "train_model = encode_sentences_wsyl(tokenizer,train_df)"
   ]
  },
  {
   "cell_type": "code",
   "execution_count": 26,
   "metadata": {},
   "outputs": [],
   "source": [
    "#logprob"
   ]
  },
  {
   "cell_type": "code",
   "execution_count": null,
   "metadata": {},
   "outputs": [],
   "source": [
    "class PoemDataset_syl(Dataset):\n",
    "    def __init__(self, df):\n",
    "        self.labels = df['labels']\n",
    "        self.mask = df['attention_mask']\n",
    "        self.input = df['input_ids']\n",
    "        self.syllables = df['syllables']\n",
    "        #self.target_transform = target_transform\n",
    "\n",
    "    def __len__(self):\n",
    "        return len(self.labels)\n",
    "\n",
    "    def __getitem__(self, idx):\n",
    "        \n",
    "        input_ids = self.input[idx]\n",
    "        attention_masks = self.mask[idx]\n",
    "        target_ids = self.labels[idx]\n",
    "        syllables = self.syllables[idx]\n",
    "        batch = {\n",
    "          \"input_ids\": input_ids,\n",
    "          \"decoder_attention_mask\": torch.tensor([1] * 128),\n",
    "          \"attention_mask\": attention_masks,\n",
    "          \"label_ids\": target_ids,\n",
    "          \"syllables\":syllables\n",
    "        }\n",
    "        return batch"
   ]
  },
  {
   "cell_type": "code",
   "execution_count": null,
   "metadata": {},
   "outputs": [],
   "source": [
    "train_ds = PoemDataset_syl(train_model)\n",
    "eval_ds = PoemDataset_syl(test_model)"
   ]
  },
  {
   "cell_type": "code",
   "execution_count": 28,
   "metadata": {},
   "outputs": [],
   "source": [
    "#discriminator = discriminator.cuda()"
   ]
  },
  {
   "cell_type": "markdown",
   "metadata": {},
   "source": [
    "# Train"
   ]
  },
  {
   "cell_type": "code",
   "execution_count": null,
   "metadata": {},
   "outputs": [],
   "source": [
    "PATH = '/home/alexander/nlg-project/GAN_models_syllables/'"
   ]
  },
  {
   "cell_type": "code",
   "execution_count": null,
   "metadata": {},
   "outputs": [],
   "source": [
    " #reduced to a binary problem \n",
    "bsize = 12\n",
    "generator =  Generator().cuda()#BartForConditionalGeneration.from_pretrained('facebook/bart-base').cuda()\n",
    "#model = TheModelClass(*args, **kwargs)\n",
    "#generator.load_state_dict(torch.load(PATH + 'generator.pt')['model_state_dict'])\n",
    "discriminator = Discriminator().cuda()\n",
    "discriminator.load_state_dict(torch.load(PATH + 'discriminator.pt')['model_state_dict'])\n",
    "criterion = nn.BCEWithLogitsLoss(reduction='none')\n",
    "\n",
    "# Create batch of latent vectors that we will use to visualize\n",
    "#  the progression of the generator\n",
    "fixed_noise = generate_random_input_syllables(bsize,'cuda')\n",
    "\n",
    "# Establish convention for real and fake labels during training\n",
    "real_label = 1.\n",
    "ewma_reward = 0.0#torch.tensor(0.0)\n",
    "fake_label = 0.\n",
    "lr = .000001\n",
    "beta1 = .9\n",
    "# Setup Adam optimizers for both G and D\n",
    "optimizerD = optim.Adam(discriminator.parameters(), lr=lr*.05, betas=(beta1, 0.99)) \n",
    "optimizerG = optim.Adam(generator.parameters(), lr=lr, betas=(beta1, 0.99))"
   ]
  },
  {
   "cell_type": "code",
   "execution_count": null,
   "metadata": {},
   "outputs": [],
   "source": []
  },
  {
   "cell_type": "code",
   "execution_count": null,
   "metadata": {},
   "outputs": [],
   "source": []
  },
  {
   "cell_type": "code",
   "execution_count": 33,
   "metadata": {},
   "outputs": [],
   "source": [
    "#fixed_noise"
   ]
  },
  {
   "cell_type": "code",
   "execution_count": 34,
   "metadata": {},
   "outputs": [],
   "source": [
    "#out.sequences"
   ]
  },
  {
   "cell_type": "code",
   "execution_count": 29,
   "metadata": {},
   "outputs": [],
   "source": [
    "#sample losses towards end of training"
   ]
  },
  {
   "cell_type": "code",
   "execution_count": 41,
   "metadata": {},
   "outputs": [
    {
     "data": {
      "text/plain": [
       "[<matplotlib.lines.Line2D at 0x7f8925a490d0>]"
      ]
     },
     "execution_count": 41,
     "metadata": {},
     "output_type": "execute_result"
    },
    {
     "data": {
      "image/png": "[encoded data removed]",
      "text/plain": [
       "<Figure size 432x288 with 1 Axes>"
      ]
     },
     "metadata": {
      "needs_background": "light"
     },
     "output_type": "display_data"
    }
   ],
   "source": [
    "plt.plot(G_losses)"
   ]
  },
  {
   "cell_type": "code",
   "execution_count": 37,
   "metadata": {},
   "outputs": [
    {
     "data": {
      "text/plain": [
       "[<matplotlib.lines.Line2D at 0x7efff10eb1c0>]"
      ]
     },
     "execution_count": 37,
     "metadata": {},
     "output_type": "execute_result"
    },
    {
     "data": {
      "image/png": "[encoded data removed]",
      "text/plain": [
       "<Figure size 432x288 with 1 Axes>"
      ]
     },
     "metadata": {
      "needs_background": "light"
     },
     "output_type": "display_data"
    }
   ],
   "source": [
    "plt.plot(D_losses)"
   ]
  },
  {
   "cell_type": "code",
   "execution_count": null,
   "metadata": {},
   "outputs": [],
   "source": [
    "with open(\"G_losses_5_5_syl.txt\", \"w\") as f:\n",
    "    for s in G_losses:\n",
    "        f.write(str(s) +\"\\n\")"
   ]
  },
  {
   "cell_type": "code",
   "execution_count": null,
   "metadata": {},
   "outputs": [],
   "source": []
  },
  {
   "cell_type": "code",
   "execution_count": null,
   "metadata": {
    "scrolled": true
   },
   "outputs": [
    {
     "name": "stdout",
     "output_type": "stream",
     "text": [
      "Starting Training Loop...\n",
      "Label Noise: 0.05\n"
     ]
    },
    {
     "name": "stderr",
     "output_type": "stream",
     "text": [
      "<ipython-input-18-2ea912393255>:82: UserWarning: To copy construct from a tensor, it is recommended to use sourceTensor.clone().detach() or sourceTensor.clone().detach().requires_grad_(True), rather than torch.tensor(sourceTensor).\n",
      "  output_tokens = torch.cat([output_tokens,torch.tensor(next_word).unsqueeze(1)],axis=1)\n",
      "/home/alexander/anaconda3/lib/python3.8/site-packages/torch/nn/functional.py:1625: UserWarning: nn.functional.sigmoid is deprecated. Use torch.sigmoid instead.\n",
      "  warnings.warn(\"nn.functional.sigmoid is deprecated. Use torch.sigmoid instead.\")\n",
      "<ipython-input-17-0f424487d694>:73: UserWarning: To copy construct from a tensor, it is recommended to use sourceTensor.clone().detach() or sourceTensor.clone().detach().requires_grad_(True), rather than torch.tensor(sourceTensor).\n",
      "  syl_diff = torch.tensor(desired_syllables - running_syllables,dtype=torch.int32).cuda()\n"
     ]
    },
    {
     "name": "stdout",
     "output_type": "stream",
     "text": [
      "Disc LogProbs True\n",
      "tensor([[3.8895, 3.7554, 3.9745, 4.2929, 4.0554, 4.7351, 4.8642, 4.9528, 4.9829,\n",
      "         4.9843, 4.9728, 5.0016, 5.0026, 5.1074, 5.0888, 5.0904, 5.1139, 5.1421,\n",
      "         5.1209, 5.1313, 5.0131]], device='cuda:0', grad_fn=<SliceBackward>)\n",
      "Disc LogProbs False\n",
      "tensor([[ 1.3536,  1.1512,  0.0761, -0.1045, -0.7076, -0.8751, -0.6863, -1.2499]],\n",
      "       device='cuda:0', grad_fn=<SliceBackward>)\n",
      "gen loss\n",
      "tensor([[ 2.7256e-02,  1.0229e-02,  2.6341e-03,  2.1473e-03, -1.0808e-03,\n",
      "         -1.3198e-02,  4.3744e-02,  2.1865e-06]], device='cuda:0',\n",
      "       grad_fn=<SliceBackward>)\n",
      "cum rewards\n",
      "tensor([[ 0.5894,  0.6753,  0.0528, -0.0739, -0.4841, -0.5876,  0.5283,  0.3745]],\n",
      "       device='cuda:0', grad_fn=<SliceBackward>)\n",
      "gen logprobs\n",
      "tensor([[-3.4585e-02, -1.1703e-02, -1.0473e-02, -1.7218e-02, -3.7861e-03,\n",
      "         -3.3934e-02, -6.0177e-02, -3.8147e-06]], device='cuda:0',\n",
      "       grad_fn=<SliceBackward>)\n",
      "[' mother thanks yourself from this day that</s>']\n",
      "[0/30][0/11403]\tLoss_D: 4.9405\tLoss_G: -0.0017\tD(x): 3.5198\tD(G(z)): -0.4202 / -0.0017\n",
      "['</s><s> they, that i</s>', '</s><s> they, that i</s>']\n",
      "[0/30][256/11403]\tLoss_D: 4.4134\tLoss_G: -0.0607\tD(x): 3.4454\tD(G(z)): -0.6727 / -0.0607\n",
      "[0/30][512/11403]\tLoss_D: 8.6408\tLoss_G: -0.2113\tD(x): 1.8012\tD(G(z)): -0.7121 / -0.2113\n",
      "[0/30][768/11403]\tLoss_D: 9.6159\tLoss_G: 0.0368\tD(x): 2.5778\tD(G(z)): -0.3711 / 0.0368\n",
      "['</s><s> they, that i</s><pad>', '</s><s> they, that i</s><pad>']\n",
      "saving geneartor\n",
      "[0/30][1024/11403]\tLoss_D: 2.2648\tLoss_G: -0.0182\tD(x): 2.3209\tD(G(z)): -4.4783 / -0.0182\n",
      "[0/30][1280/11403]\tLoss_D: 5.0865\tLoss_G: -0.1662\tD(x): 3.6788\tD(G(z)): -0.5034 / -0.1662\n",
      "[0/30][1536/11403]\tLoss_D: 9.6626\tLoss_G: -0.0083\tD(x): 2.6618\tD(G(z)): -0.7340 / -0.0083\n",
      "[0/30][1792/11403]\tLoss_D: 12.6576\tLoss_G: -0.3795\tD(x): 1.8106\tD(G(z)): -0.5583 / -0.3795\n",
      "['</s><s> blue balls, which was</s>', '</s><s> blue balls, which was</s>']\n",
      "saving geneartor\n",
      "[0/30][2048/11403]\tLoss_D: 3.2739\tLoss_G: -0.1633\tD(x): 2.2403\tD(G(z)): -4.9852 / -0.1633\n",
      "[0/30][2304/11403]\tLoss_D: 1.6838\tLoss_G: -0.0299\tD(x): 3.4836\tD(G(z)): -4.9845 / -0.0299\n",
      "[0/30][2560/11403]\tLoss_D: 5.2107\tLoss_G: -0.0738\tD(x): 3.0408\tD(G(z)): -0.6098 / -0.0738\n",
      "[0/30][2816/11403]\tLoss_D: 7.7698\tLoss_G: 0.0448\tD(x): 1.7901\tD(G(z)): -0.2205 / 0.0448\n",
      "['</s><s> they, day that was</s>', '</s><s> they, day that was</s>']\n",
      "saving geneartor\n",
      "[0/30][3072/11403]\tLoss_D: 1.3771\tLoss_G: 0.0634\tD(x): 3.4635\tD(G(z)): -5.1928 / 0.0634\n",
      "[0/30][3328/11403]\tLoss_D: 5.5069\tLoss_G: -0.0616\tD(x): 2.7728\tD(G(z)): -0.5305 / -0.0616\n",
      "[0/30][3584/11403]\tLoss_D: 4.4579\tLoss_G: 0.2493\tD(x): 2.8800\tD(G(z)): -0.9586 / 0.2493\n",
      "[0/30][3840/11403]\tLoss_D: 7.2879\tLoss_G: 0.1122\tD(x): 2.2000\tD(G(z)): -0.4259 / 0.1122\n",
      "['</s><s> they, day was when</s>', '</s><s> they, day that was</s>']\n",
      "saving geneartor\n",
      "Disc LogProbs True\n",
      "tensor([[ 0.4609,  1.0974,  0.3512, -0.3575,  4.2219,  4.1947,  4.2610,  4.2107,\n",
      "          4.2427,  4.2598,  4.2173,  4.1398,  4.2199,  4.2154,  4.2878,  4.3069,\n",
      "          4.3028,  4.2512,  4.2614]], device='cuda:0', grad_fn=<SliceBackward>)\n",
      "Disc LogProbs False\n",
      "tensor([[ 0.1223, -1.6576, -1.6811, -1.8749, -1.9184, -2.0613, -2.0249, -1.8792,\n",
      "         -1.9527, -1.9687, -0.0000, -0.0000, -0.0000]], device='cuda:0',\n",
      "       grad_fn=<SliceBackward>)\n",
      "gen loss\n",
      "tensor([[ 8.4268e+00,  1.1754e-01, -1.0675e-01, -1.1696e-01,  5.3381e-01,\n",
      "         -1.7279e+00, -5.8779e-01, -1.5121e+00, -4.0613e+00, -8.5161e-06,\n",
      "          0.0000e+00,  0.0000e+00,  0.0000e+00]], device='cuda:0',\n",
      "       grad_fn=<SliceBackward>)\n",
      "cum rewards\n",
      "tensor([[ 0.0611, -0.8838, -0.9537, -1.0402, -0.0602, -1.2051, -1.2952, -1.3500,\n",
      "         -1.4735, -1.3118,  0.0000,  0.0000,  0.0000]], device='cuda:0',\n",
      "       grad_fn=<SliceBackward>)\n",
      "gen logprobs\n",
      "tensor([[-8.4200e+00, -2.1006e+00, -7.6599e+00, -1.1649e+00, -6.0690e-01,\n",
      "         -6.5106e+00, -1.6538e+00, -3.6861e+00, -7.6084e+00, -2.2888e-05,\n",
      "         -2.2003e+01, -3.7528e+01, -3.7274e+01]], device='cuda:0',\n",
      "       grad_fn=<SliceBackward>)\n",
      "[' well good eyes when the shock was back.</s><pad><pad><pad>']\n",
      "[0/30][4096/11403]\tLoss_D: 4.0689\tLoss_G: 0.1768\tD(x): 3.1968\tD(G(z)): -1.3870 / 0.1768\n",
      "[0/30][4352/11403]\tLoss_D: 4.2387\tLoss_G: 0.0453\tD(x): 3.0655\tD(G(z)): -1.2481 / 0.0453\n",
      "[0/30][4608/11403]\tLoss_D: 4.7531\tLoss_G: -0.2141\tD(x): 1.2318\tD(G(z)): -4.4737 / -0.2141\n",
      "[0/30][4864/11403]\tLoss_D: 1.2522\tLoss_G: -0.0431\tD(x): 3.6887\tD(G(z)): -4.8750 / -0.0431\n",
      "['</s><s> they, day that was</s>', '</s><s> they, day that was</s>']\n",
      "saving geneartor\n",
      "[0/30][5120/11403]\tLoss_D: 3.2850\tLoss_G: 0.0996\tD(x): 2.8565\tD(G(z)): -0.9827 / 0.0996\n",
      "[0/30][5376/11403]\tLoss_D: 6.8586\tLoss_G: 0.0181\tD(x): 2.5611\tD(G(z)): -0.5592 / 0.0181\n",
      "[0/30][5632/11403]\tLoss_D: 5.7062\tLoss_G: 0.1396\tD(x): 3.2924\tD(G(z)): -0.7450 / 0.1396\n",
      "[0/30][5888/11403]\tLoss_D: 2.4585\tLoss_G: 0.0374\tD(x): 2.5170\tD(G(z)): -4.8795 / 0.0374\n",
      "['</s><s> they, that green of</s>', '</s><s> they, that green of</s>']\n",
      "saving geneartor\n",
      "[0/30][6144/11403]\tLoss_D: 4.3883\tLoss_G: 0.0033\tD(x): 1.8985\tD(G(z)): -5.1295 / 0.0033\n",
      "[0/30][6400/11403]\tLoss_D: 1.7169\tLoss_G: 0.2019\tD(x): 3.4161\tD(G(z)): -4.6032 / 0.2019\n",
      "[0/30][6656/11403]\tLoss_D: 1.5843\tLoss_G: -0.0732\tD(x): 1.9626\tD(G(z)): -5.3224 / -0.0732\n",
      "[0/30][6912/11403]\tLoss_D: 1.8474\tLoss_G: 0.0223\tD(x): 3.1815\tD(G(z)): -5.0637 / 0.0223\n",
      "['</s><s> they, that green of</s>', '</s><s> they, that green of</s>']\n",
      "saving geneartor\n",
      "[0/30][7168/11403]\tLoss_D: 2.4323\tLoss_G: -0.1477\tD(x): 3.0911\tD(G(z)): -5.0393 / -0.1477\n",
      "[0/30][7424/11403]\tLoss_D: 9.8141\tLoss_G: 0.3297\tD(x): 2.6878\tD(G(z)): -0.1949 / 0.3297\n",
      "[0/30][7680/11403]\tLoss_D: 7.0199\tLoss_G: 0.0765\tD(x): 1.8427\tD(G(z)): -0.6764 / 0.0765\n",
      "[0/30][7936/11403]\tLoss_D: 7.8258\tLoss_G: -0.0304\tD(x): 2.4170\tD(G(z)): -0.3032 / -0.0304\n",
      "['</s><s> they, that green of</s>', '</s><s> they, that green of</s>']\n",
      "saving geneartor\n",
      "Disc LogProbs True\n",
      "tensor([[ 0.5811, -0.0741, -0.4769, -0.8467, -0.8165, -0.7673, -0.8171, -0.8618,\n",
      "         -0.9357,  5.1368,  5.2144,  5.2153,  5.2133,  5.2093,  5.3015,  5.2900,\n",
      "          5.3014,  5.3072,  5.3018,  5.3140,  5.3079,  5.1752]],\n",
      "       device='cuda:0', grad_fn=<SliceBackward>)\n",
      "Disc LogProbs False\n",
      "tensor([[-3.6429, -3.0774, -4.3606, -4.9807, -5.4111, -5.4928, -5.7498]],\n",
      "       device='cuda:0', grad_fn=<SliceBackward>)\n",
      "gen loss\n",
      "tensor([[ 1.0642,  0.0089,  0.0072, -0.7021, -0.7143, -0.1124,  0.0000]],\n",
      "       device='cuda:0', grad_fn=<SliceBackward>)\n",
      "cum rewards\n",
      "tensor([[-0.9490, -1.1855, -0.3549, -1.4977, -1.7124, -1.8158, -1.6525]],\n",
      "       device='cuda:0', grad_fn=<SliceBackward>)\n",
      "gen logprobs\n",
      "tensor([[-2.7829, -0.0607, -0.0074, -4.2227, -1.8747, -0.2321,  0.0000]],\n",
      "       device='cuda:0', grad_fn=<SliceBackward>)\n",
      "[' got terrible people enverry black</s>']\n",
      "[0/30][8192/11403]\tLoss_D: 2.6764\tLoss_G: -0.2146\tD(x): 3.0413\tD(G(z)): -4.6859 / -0.2146\n",
      "[0/30][8448/11403]\tLoss_D: 5.0336\tLoss_G: -0.0180\tD(x): 3.5473\tD(G(z)): -0.6596 / -0.0180\n",
      "[0/30][8704/11403]\tLoss_D: 1.5982\tLoss_G: -0.0738\tD(x): 1.9825\tD(G(z)): -4.7874 / -0.0738\n",
      "[0/30][8960/11403]\tLoss_D: 8.6603\tLoss_G: -0.1531\tD(x): 3.1946\tD(G(z)): 0.1894 / -0.1531\n",
      "['</s><s> they, that green of</s>', '</s><s> they, green ofvor</s>']\n",
      "saving geneartor\n",
      "[0/30][9216/11403]\tLoss_D: 7.6510\tLoss_G: 0.0074\tD(x): 1.6308\tD(G(z)): -0.1874 / 0.0074\n",
      "[0/30][9472/11403]\tLoss_D: 5.1827\tLoss_G: 0.0654\tD(x): 2.4961\tD(G(z)): -0.8277 / 0.0654\n",
      "[0/30][9728/11403]\tLoss_D: 5.5944\tLoss_G: -0.1545\tD(x): 2.5113\tD(G(z)): -0.7203 / -0.1545\n",
      "[0/30][9984/11403]\tLoss_D: 4.1561\tLoss_G: -0.0041\tD(x): 2.0957\tD(G(z)): -0.9107 / -0.0041\n",
      "['</s><s> they, that green of</s>', '</s><s> they, that green of</s>']\n",
      "saving geneartor\n",
      "[0/30][10240/11403]\tLoss_D: 4.3265\tLoss_G: 0.1569\tD(x): 2.6555\tD(G(z)): -1.0967 / 0.1569\n",
      "[0/30][10496/11403]\tLoss_D: 1.6474\tLoss_G: -0.1026\tD(x): 3.6986\tD(G(z)): -3.7072 / -0.1026\n",
      "[0/30][10752/11403]\tLoss_D: 1.8674\tLoss_G: -0.0982\tD(x): 3.4624\tD(G(z)): -4.6832 / -0.0982\n",
      "['</s><s> they, that i of</s>', '</s><s> they, that i of</s>']\n",
      "saving geneartor\n",
      "[0/30][11008/11403]\tLoss_D: 5.7490\tLoss_G: 0.2661\tD(x): 1.9831\tD(G(z)): -0.5740 / 0.2661\n",
      "[0/30][11264/11403]\tLoss_D: 3.9274\tLoss_G: 0.0493\tD(x): 3.7014\tD(G(z)): -0.8310 / 0.0493\n",
      "Label Noise: 0.045000000000000005\n",
      "Disc LogProbs True\n",
      "tensor([[4.0600, 3.8477, 4.1543, 4.7122, 4.5271, 4.9459, 5.0118, 5.0374, 5.0647,\n",
      "         5.0770, 5.1104, 5.1107, 5.1166, 5.1906, 5.1692, 5.2019, 5.2095, 5.2293,\n",
      "         5.2382, 5.2137, 5.1696]], device='cuda:0', grad_fn=<SliceBackward>)\n",
      "Disc LogProbs False\n",
      "tensor([[-5.7796, -5.5975, -4.9205, -5.2463, -5.3972, -5.5641, -5.6295]],\n",
      "       device='cuda:0', grad_fn=<SliceBackward>)\n",
      "gen loss\n",
      "tensor([[ 2.8264e-05, -4.2871e-05, -1.0802e-04, -1.7393e-03, -1.8234e+00,\n",
      "         -2.8867e-03, -2.5920e-05]], device='cuda:0', grad_fn=<SliceBackward>)\n",
      "cum rewards\n",
      "tensor([[ 0.0062, -1.3904, -1.5699, -1.7022, -1.8122, -1.9166, -1.7514]],\n",
      "       device='cuda:0', grad_fn=<SliceBackward>)\n",
      "gen logprobs\n",
      "tensor([[-2.2888e-05, -2.6512e-04, -3.1662e-04, -3.6736e-03, -3.1247e+00,\n",
      "         -4.1962e-03, -4.9591e-05]], device='cuda:0', grad_fn=<SliceBackward>)\n",
      "[' interrogated they, that I that</s>']\n",
      "[1/30][0/11403]\tLoss_D: 1.2336\tLoss_G: -0.0251\tD(x): 3.5385\tD(G(z)): -4.5263 / -0.0251\n"
     ]
    },
    {
     "name": "stdout",
     "output_type": "stream",
     "text": [
      "[1/30][256/11403]\tLoss_D: 2.9765\tLoss_G: -0.0567\tD(x): 3.2158\tD(G(z)): -3.2815 / -0.0567\n",
      "[1/30][512/11403]\tLoss_D: 2.4729\tLoss_G: -0.0071\tD(x): 1.7732\tD(G(z)): -4.4836 / -0.0071\n"
     ]
    }
   ],
   "source": [
    "# Training Loop\n",
    "device = 'cuda'\n",
    "\n",
    "# Lists to keep track of progress\n",
    "img_list = []\n",
    "G_losses = []\n",
    "D_losses = []\n",
    "iters = 0\n",
    "num_epochs = 30\n",
    "\n",
    "train_dl = DataLoader(train_ds,batch_size=bsize,num_workers=2)\n",
    "print(\"Starting Training Loop...\")\n",
    "# For each epoch\n",
    "for epoch in range(num_epochs):\n",
    "    print(\"Label Noise:\",0.05*.9**epoch)\n",
    "    # For each batch in the dataloader\n",
    "    for i, data in enumerate(train_dl, 0):\n",
    "       # print(i)\n",
    "        \n",
    "        if len(data['input_ids']) < bsize:\n",
    "            continue\n",
    "       # print(data)\n",
    "        ############################\n",
    "        # (1) Update D network: maximize log(D(x)) + log(1 - D(G(z)))\n",
    "        ###########################\n",
    "        ## Train with all-real batch\n",
    "        \n",
    "        # Format batch\n",
    "        real_inputs = data['input_ids'].to(device)\n",
    "        real_input_attention = data['attention_mask'].to(device)\n",
    "        real_input_test = {'input_ids':real_inputs,'attention_mask':real_input_attention}\n",
    "        \n",
    "        \n",
    "        real_gpu = data['label_ids'].to(device)\n",
    "        attention_gpu = data['decoder_attention_mask'].to(device)\n",
    "        b_size = real_gpu.size(0)\n",
    "        #\n",
    "        label = torch.full((b_size,), 1.0 , dtype=torch.float, device=device) #.95 instead of real to inject noise\n",
    "        label = torch.bernoulli(label)\n",
    "       # print(label)\n",
    "        # Forward pass real batch through D\n",
    "        real_mask = get_valid_mask(real_gpu)\n",
    "\n",
    "        output_real,loss_real = discriminator_train_standard(discriminator,real_gpu[:,1:],label,criterion,mask=real_mask)\n",
    "\n",
    "        loss_real.backward()\n",
    "\n",
    "        #del label\n",
    "        #output = discriminator(real_gpu,attention_mask=attention_gpu).view(-1)\n",
    "        # Calculate loss on all-real batch\n",
    "        #errD_real = criterion(output, label)\n",
    "        # Calculate gradients for D in backward pass\n",
    "        #errD_real.backward()\n",
    "        D_x = output_real.detach().mean().item()\n",
    "        #del output_real\n",
    "        ## Train with all-fake batch\n",
    "        # Generate batch of latent vectors\n",
    "        noise,noise_syl = generate_random_input_syllables(bsize,device)#torch.randn(b_size, nz, 1, 1, device=device)\n",
    "        # Generate fake image batch with G\n",
    "        #print(fake)\n",
    "       # print(noise)\n",
    "        if random.random() > .5:\n",
    "            titles = noise['input_ids']\n",
    "            syllables = noise_syl\n",
    "            fake,fake_logprobs = generator(noise)\n",
    "        else:\n",
    "            titles = real_input_test['input_ids']\n",
    "            syllables = data['syllables']\n",
    "            #sometimes the discirminator learns words in real input, this way some will be based on these same words\n",
    "            fake,fake_logprobs = generator(real_input_test)\n",
    "            #real_input_test\n",
    "\n",
    "        fake_mask = get_valid_mask(fake)\n",
    "        end_mask = get_end_mask(fake)\n",
    "  \n",
    "        #generate_sequence(generator,noise)\n",
    "       # print(len(fake_logprobs))\n",
    "        #a = 1/0\n",
    "        #fake = generator.generate_with_grad(noise['input_ids'].cuda(),attention_mask=noise[\"attention_mask\"].cuda()) #,max_length=128\n",
    "       # print(fake)\n",
    "        #print((fake.logits))\n",
    "        #fake = decode(fake.logits)\n",
    "      #  print(fake)\n",
    "        # I am injecting some false positives into the fake labels so the discriminator does a worse job\n",
    "        label.fill_(0.0) \n",
    "        label = torch.bernoulli(label)\n",
    "       # print(label)\n",
    "        # Classify all fake batch with D\n",
    "        output_fake,loss_fake = discriminator_train_standard(discriminator,fake,label,criterion,mask=fake_mask)\n",
    "\n",
    "        loss_fake.backward()\n",
    "       # print('fake')\n",
    "       # print(loss_fake.detach())\n",
    "        #output = discriminator(fake).view(-1)\n",
    "        # Calculate D's loss on the all-fake batch\n",
    "        #errD_fake = criterion(output, label)\n",
    "        # Calculate the gradients for this batch, accumulated (summed) with previous gradients\n",
    "       # errD_fake.backward()\n",
    "        D_G_z1 = output_fake.detach().cpu().mean().item()\n",
    "        # Compute error of D as sum over the fake and the real batches\n",
    "        errD = (torch.mean(loss_real.detach()) + torch.mean(loss_fake.detach())).cpu()\n",
    "       # del output_real\n",
    "        # Update D\n",
    "        optimizerD.step()\n",
    "        \n",
    "\n",
    "        ############################\n",
    "        # (2) Update G network: maximize log(D(G(z)))\n",
    "        ###########################\n",
    "        \n",
    "\n",
    "\n",
    "        lossG, cumulative_rewards, ewma_reward = reinforce_loss_syllables(output_fake,fake_logprobs,.3,.08,epoch,fake_mask,end_mask,syllables,fake,ewma_reward,syllable_dict)\n",
    "        if i % (1024*4) == 0:\n",
    "            print('Disc LogProbs True')\n",
    "            print(output_real[0:1])\n",
    "            print('Disc LogProbs False')\n",
    "            print(output_fake[0:1])\n",
    "            print('gen loss')\n",
    "            print(lossG[0:1])\n",
    "            print('cum rewards')\n",
    "            print(cumulative_rewards[0:1])\n",
    "            print('gen logprobs')\n",
    "            print(fake_logprobs[0:1])\n",
    "            print(tokenizer.batch_decode(fake[0:1].cpu()))\n",
    "\n",
    "        #print(lossG)\n",
    "        lossG = torch.mean(lossG)\n",
    "       # print(lossG)\n",
    "        #print(loss)\n",
    "        #label.fill_(real_label)  # fake labels are real for generator cost\n",
    "        # Since we just updated D, perform another forward pass of all-fake batch through D\n",
    "       # print(fake)\n",
    "        #output = discriminator(fake).view(-1)\n",
    "        # Calculate G's loss based on this output\n",
    "        #errG = criterion(output, label)\n",
    "        #print(errG)\n",
    "        #errG = loss.detach()\n",
    "        # Calculate gradients for G\n",
    "        lossG.backward()\n",
    "        D_G_z2 = lossG.detach().cpu().mean().item()\n",
    "        # Update G\n",
    "        \n",
    "        optimizerG.step()\n",
    "        generator.zero_grad()\n",
    "        discriminator.zero_grad()\n",
    "        #a = 1/0\n",
    "        # Output training stats\n",
    "        if i % 256 == 0:\n",
    "            print('[%d/%d][%d/%d]\\tLoss_D: %.4f\\tLoss_G: %.4f\\tD(x): %.4f\\tD(G(z)): %.4f / %.4f'\n",
    "                  % (epoch, num_epochs, i, len(train_dl),\n",
    "                     errD.item(), lossG.item(), D_x, D_G_z1, D_G_z2))\n",
    "          #  print('ewma_reward:',ewma_reward)\n",
    "\n",
    "        # Save Losses for plotting later\n",
    "        G_losses.append(lossG.detach().item())\n",
    "        D_losses.append(errD.detach().item())\n",
    "        \n",
    "        del lossG\n",
    "\n",
    "        # Check how the generator is doing by saving G's output on fixed_noise\n",
    "        if (iters % 1000 == 0) or ((epoch == num_epochs-1) and (i == len(dataloader)-1)):\n",
    "            with torch.no_grad():\n",
    "                fake = tokenizer.batch_decode(generator.model.generate(fixed_noise[0]['input_ids'],attention_mask=fixed_noise[0][\"attention_mask\"],max_length=32,num_beams= 50,early_stopping = True))\n",
    "                print(fake[0:2])\n",
    "        if (iters % 1000 == 0 and iters != 0):\n",
    "            print('saving geneartor')\n",
    "            torch.save({\n",
    "            'epoch': 15,\n",
    "            'model_state_dict': generator.state_dict(),\n",
    "            'optimizer_state_dict': optimizerG.state_dict(),\n",
    "            'loss': 0.3355,\n",
    "            }, PATH + 'generator.pt')\n",
    "            torch.save({\n",
    "            'epoch': 15,\n",
    "            'model_state_dict': discriminator.state_dict(),\n",
    "            'optimizer_state_dict': optimizerD.state_dict(),\n",
    "            'loss': 0.3355,\n",
    "            }, PATH + 'discriminator.pt')\n",
    "            #img_list.append(vutils.make_grid(fake, padding=2, normalize=True))\n",
    "\n",
    "        iters += 1"
   ]
  },
  {
   "cell_type": "markdown",
   "metadata": {},
   "source": [
    "# del optimizerG"
   ]
  },
  {
   "cell_type": "code",
   "execution_count": 33,
   "metadata": {},
   "outputs": [],
   "source": [
    "torch.save({\n",
    "            'epoch': 15,\n",
    "            'model_state_dict': generator.state_dict(),\n",
    "            'optimizer_state_dict': optimizerG.state_dict(),\n",
    "            'loss': 0.3355,\n",
    "            }, PATH + '5_it_syl_generator.pt')\n",
    "torch.save({\n",
    "            'epoch': 15,\n",
    "            'model_state_dict': discriminator.state_dict(),\n",
    "            'optimizer_state_dict': optimizerD.state_dict(),\n",
    "            'loss': 0.3355,\n",
    "            }, PATH + '5_it_syl_discriminator.pt')"
   ]
  },
  {
   "cell_type": "code",
   "execution_count": 31,
   "metadata": {},
   "outputs": [
    {
     "data": {
      "text/plain": [
       "<All keys matched successfully>"
      ]
     },
     "execution_count": 31,
     "metadata": {},
     "output_type": "execute_result"
    }
   ],
   "source": [
    "\n",
    "\n",
    "\n"
   ]
  },
  {
   "cell_type": "code",
   "execution_count": 36,
   "metadata": {},
   "outputs": [],
   "source": []
  },
  {
   "cell_type": "code",
   "execution_count": 32,
   "metadata": {},
   "outputs": [],
   "source": [
    "inputs = tokenizer(\"cats\", return_tensors=\"pt\")"
   ]
  },
  {
   "cell_type": "code",
   "execution_count": 35,
   "metadata": {},
   "outputs": [
    {
     "ename": "SyntaxError",
     "evalue": "keyword argument repeated (<ipython-input-35-f3e261162407>, line 5)",
     "output_type": "error",
     "traceback": [
      "\u001b[0;36m  File \u001b[0;32m\"<ipython-input-35-f3e261162407>\"\u001b[0;36m, line \u001b[0;32m5\u001b[0m\n\u001b[0;31m    max_length=16))\u001b[0m\n\u001b[0m    ^\u001b[0m\n\u001b[0;31mSyntaxError\u001b[0m\u001b[0;31m:\u001b[0m keyword argument repeated\n"
     ]
    }
   ],
   "source": [
    "tokenizer.batch_decode(test_generator.model.eval().cpu().generate(inputs['input_ids'],attention_mask=inputs[\"attention_mask\"],max_length=128, use_cache=True,\n",
    "        decoder_start_token_id = tokenizer.pad_token_id,\n",
    "        num_beams= 50,\n",
    "        early_stopping = True, max_length=16))"
   ]
  },
  {
   "cell_type": "code",
   "execution_count": null,
   "metadata": {},
   "outputs": [],
   "source": []
  },
  {
   "cell_type": "code",
   "execution_count": null,
   "metadata": {},
   "outputs": [],
   "source": []
  },
  {
   "cell_type": "code",
   "execution_count": null,
   "metadata": {
    "scrolled": true
   },
   "outputs": [],
   "source": []
  },
  {
   "cell_type": "code",
   "execution_count": null,
   "metadata": {},
   "outputs": [],
   "source": [
    "inputs = tokenizer(\"echidna\", return_tensors=\"pt\")"
   ]
  },
  {
   "cell_type": "code",
   "execution_count": null,
   "metadata": {},
   "outputs": [],
   "source": [
    "tokenizer.batch_decode(BartForConditionalGeneration.from_pretrained('BART-base/checkpoint-25000').eval().cpu().generate(inputs['input_ids'],attention_mask=inputs[\"attention_mask\"],max_length=128, use_cache=True,\n",
    "        decoder_start_token_id = tokenizer.pad_token_id,                 \n",
    "        num_beams= 50,\n",
    "        early_stopping = True))"
   ]
  },
  {
   "cell_type": "markdown",
   "metadata": {},
   "source": [
    "# Test "
   ]
  },
  {
   "cell_type": "code",
   "execution_count": null,
   "metadata": {},
   "outputs": [],
   "source": [
    "batch_size = 16 \n",
    "\n",
    "args = Seq2SeqTrainingArguments(\n",
    "    \"BART-base\",\n",
    "    evaluation_strategy = \"epoch\",\n",
    "    #learning_rate=2e-5,\n",
    "    per_device_train_batch_size=batch_size,\n",
    "    per_device_eval_batch_size=batch_size,\n",
    "   # weight_decay=0.01,\n",
    "   # save_total_limit=3,\n",
    "   # num_train_epochs=1,\n",
    "   # predict_with_generate=True,\n",
    "    \n",
    "    learning_rate=1e-4,\n",
    "    weight_decay=0.01,\n",
    "    adam_beta1=0.9,\n",
    "    adam_beta2=0.999,\n",
    "    adam_epsilon=1e-6,\n",
    "    max_grad_norm=1.0,\n",
    "    num_train_epochs=10,\n",
    "    lr_scheduler_type=\"linear\",\n",
    "    warmup_ratio=0.1,\n",
    "   # label_names=\"labels\",\n",
    "    #fp16=True,\n",
    "  #  use_auth_token=False\n",
    "    #push_to_hub=True,\n",
    ")"
   ]
  },
  {
   "cell_type": "code",
   "execution_count": null,
   "metadata": {},
   "outputs": [],
   "source": [
    "#train_ds = PoemDataset(model_input)\n",
    "trainer = Seq2SeqTrainer(\n",
    "    model=BartForConditionalGeneration.from_pretrained('BART-base/checkpoint-25000'),\n",
    "    args=args,\n",
    "   # data_collator=data_collator,\n",
    "    train_dataset=train_ds,\n",
    "    \n",
    "    eval_dataset=eval_ds,\n",
    "    #use_auth_token=False,\n",
    "    \n",
    "    tokenizer=tokenizer\n",
    ")"
   ]
  },
  {
   "cell_type": "code",
   "execution_count": null,
   "metadata": {},
   "outputs": [],
   "source": [
    "trainer.evaluate()"
   ]
  },
  {
   "cell_type": "code",
   "execution_count": null,
   "metadata": {},
   "outputs": [],
   "source": [
    "pwd"
   ]
  },
  {
   "cell_type": "code",
   "execution_count": null,
   "metadata": {},
   "outputs": [],
   "source": [
    "mkdir GAN_models"
   ]
  },
  {
   "cell_type": "code",
   "execution_count": null,
   "metadata": {},
   "outputs": [],
   "source": [
    "torch.save({\n",
    "            'epoch': 15,\n",
    "            'model_state_dict': generator.state_dict(),\n",
    "            'optimizer_state_dict': optimizerG.state_dict(),\n",
    "            'loss': 0.3355,\n",
    "            }, PATH + 'generator.pt')"
   ]
  },
  {
   "cell_type": "code",
   "execution_count": null,
   "metadata": {},
   "outputs": [],
   "source": [
    "torch.save({\n",
    "            'epoch': 15,\n",
    "            'model_state_dict': discriminator.state_dict(),\n",
    "            'optimizer_state_dict': optimizerD.state_dict(),\n",
    "            'loss': 0.3355,\n",
    "            }, PATH + 'discriminator.pt')"
   ]
  },
  {
   "cell_type": "code",
   "execution_count": null,
   "metadata": {},
   "outputs": [],
   "source": [
    "pwd"
   ]
  },
  {
   "cell_type": "code",
   "execution_count": null,
   "metadata": {},
   "outputs": [],
   "source": [
    "cd GAN_models"
   ]
  },
  {
   "cell_type": "code",
   "execution_count": null,
   "metadata": {},
   "outputs": [],
   "source": []
  }
 ],
 "metadata": {
  "kernelspec": {
   "display_name": "Python 3",
   "language": "python",
   "name": "python3"
  },
  "language_info": {
   "codemirror_mode": {
    "name": "ipython",
    "version": 3
   },
   "file_extension": ".py",
   "mimetype": "text/x-python",
   "name": "python",
   "nbconvert_exporter": "python",
   "pygments_lexer": "ipython3",
   "version": "3.8.3"
  }
 },
 "nbformat": 4,
 "nbformat_minor": 4
}
