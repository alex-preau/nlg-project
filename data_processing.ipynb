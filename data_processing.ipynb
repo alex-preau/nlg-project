{
 "cells": [
  {
   "cell_type": "code",
   "execution_count": 1,
   "id": "e9c97bbb",
   "metadata": {},
   "outputs": [
    {
     "name": "stderr",
     "output_type": "stream",
     "text": [
      "/Users/alexander/opt/anaconda3/lib/python3.9/site-packages/scipy/__init__.py:146: UserWarning: A NumPy version >=1.16.5 and <1.23.0 is required for this version of SciPy (detected version 1.23.5\n",
      "  warnings.warn(f\"A NumPy version >={np_minversion} and <{np_maxversion}\"\n"
     ]
    }
   ],
   "source": [
    "import pandas as pd\n",
    "import numpy as np\n",
    "from nltk.tokenize import SyllableTokenizer\n",
    "import string\n",
    "from num2words import num2words\n",
    "from sklearn.feature_extraction.text import CountVectorizer, TfidfTransformer\n",
    "import collections\n",
    "from sklearn.model_selection import train_test_split\n",
    "\n"
   ]
  },
  {
   "cell_type": "code",
   "execution_count": 2,
   "id": "e2b22d45",
   "metadata": {},
   "outputs": [
    {
     "name": "stdout",
     "output_type": "stream",
     "text": [
      "Requirement already satisfied: num2words in /Users/alexander/opt/anaconda3/lib/python3.9/site-packages (0.5.12)\n",
      "Requirement already satisfied: docopt>=0.6.2 in /Users/alexander/opt/anaconda3/lib/python3.9/site-packages (from num2words) (0.6.2)\n",
      "Note: you may need to restart the kernel to use updated packages.\n"
     ]
    }
   ],
   "source": [
    "pip install num2words"
   ]
  },
  {
   "cell_type": "markdown",
   "id": "e45dd247",
   "metadata": {},
   "source": [
    "# Change to your paths"
   ]
  },
  {
   "cell_type": "code",
   "execution_count": 2,
   "id": "3f872ea7",
   "metadata": {},
   "outputs": [],
   "source": [
    "raw_data_dir = '/Users/alexander/classes/nlg/data_raw/'\n",
    "processed_data_dir = '/Users/alexander/classes/nlg/data/'"
   ]
  },
  {
   "cell_type": "markdown",
   "id": "6c8e4405",
   "metadata": {},
   "source": [
    "# Dataset generation"
   ]
  },
  {
   "cell_type": "code",
   "execution_count": 3,
   "id": "abe31b96",
   "metadata": {},
   "outputs": [],
   "source": [
    "valid_chars = string.ascii_lowercase \n",
    "remove_chars = string.punctuation + '-—`’“”…‘–\"\\t'\n"
   ]
  },
  {
   "cell_type": "code",
   "execution_count": 4,
   "id": "3cfdf125",
   "metadata": {},
   "outputs": [],
   "source": [
    "valid_chars_dict = {}\n",
    "for c in valid_chars:\n",
    "    valid_chars_dict[c] = 1\n",
    "valid_chars_dict[' '] = 1"
   ]
  },
  {
   "cell_type": "code",
   "execution_count": 5,
   "id": "11443593",
   "metadata": {},
   "outputs": [
    {
     "data": {
      "text/plain": [
       "'!\"#$%&\\'()*+,-./:;<=>?@[\\\\]^_`{|}~-—`’“”…‘–\"\\t'"
      ]
     },
     "execution_count": 5,
     "metadata": {},
     "output_type": "execute_result"
    }
   ],
   "source": [
    "remove_chars"
   ]
  },
  {
   "cell_type": "code",
   "execution_count": null,
   "id": "1fa95733",
   "metadata": {},
   "outputs": [],
   "source": []
  },
  {
   "cell_type": "code",
   "execution_count": 6,
   "id": "ae0db93b",
   "metadata": {},
   "outputs": [],
   "source": [
    "SSP = SyllableTokenizer()\n",
    "\n",
    "def get_syllables(row,name):\n",
    "    '''\n",
    "    This uses nltk Syllable Tokenizer to approximate syllable count\n",
    "    Has issues, for instance says fishing is 3 syllables but is quick and easy, syllable count is also\n",
    "    a fairly minor part\n",
    "    '''\n",
    "    line = row[name]\n",
    "   # print(SSP.tokenize(line))\n",
    "    #print(line)\n",
    "   # print(row.name)\n",
    "    if row.name % 100 == 0:\n",
    "        global SSP\n",
    "        #must save something each time it is called, otherwise takes days to run\n",
    "        SSP = SyllableTokenizer()\n",
    "        #print(row.name)\n",
    "    tokens = SSP.tokenize(line)\n",
    "    #remove whitespaces from list\n",
    "    count = 0\n",
    "    for t in tokens:\n",
    "        if not t.isspace():\n",
    "            count += 1\n",
    "    return count\n",
    "\n",
    "#def convert_num_word(line):\n",
    "def num_there(s):\n",
    "    return any(i.isdigit() for i in s)\n",
    "\n",
    "def remove_punctuation(line):\n",
    "    '''\n",
    "    Some poems have punctuation but this can mess with the model\n",
    "    '''\n",
    "   # print(line)\n",
    "    line = str(line)\n",
    "\n",
    "    line = line.translate(str.maketrans('', '', remove_chars))\n",
    "    line = line.replace(\"'\", \"\")\n",
    "    line = line.lstrip()\n",
    "    line = line.rstrip()\n",
    "   # line = line.replace(\",\", \"\")\n",
    "    try: line = line.lower()\n",
    "    except:\n",
    "        return line #if it fails must be invalid, will be removed next\n",
    "    if num_there(line):\n",
    "        #print(line)\n",
    "        broke = line.split(' ')\n",
    "        new_str = []\n",
    "        for word in broke:\n",
    "            if word.isnumeric():\n",
    "                new_str.append(num2words(word))\n",
    "            else:\n",
    "                new_str.append(word)\n",
    "        line = ' '.join(new_str)\n",
    "        #print(line)\n",
    "    line = line.translate(str.maketrans('', '', remove_chars))  \n",
    "    \n",
    "    \n",
    "    return line\n",
    "\n",
    "def check_valid(row):\n",
    "    '''\n",
    "    This is slow but only needs to be run once, verifies that there are no non-standard chars \n",
    "    '''\n",
    "    for l_name in lines:\n",
    "        line = row[l_name]\n",
    "        for c in line:\n",
    "            if c not in valid_chars_dict:\n",
    "                #print(line)\n",
    "                return False\n",
    "        if num_there(line):\n",
    "            print(line)\n",
    "            return False\n",
    "            \n",
    "    return True\n",
    "    "
   ]
  },
  {
   "cell_type": "markdown",
   "id": "0a7a607e",
   "metadata": {},
   "source": []
  },
  {
   "cell_type": "code",
   "execution_count": 7,
   "id": "064fc1c1",
   "metadata": {},
   "outputs": [],
   "source": [
    "data_name = 'all_haiku.csv'"
   ]
  },
  {
   "cell_type": "code",
   "execution_count": 8,
   "id": "3104982b",
   "metadata": {},
   "outputs": [],
   "source": [
    "kaggle_df = pd.read_csv(raw_data_dir + data_name)\n",
    "kaggle_df = kaggle_df.drop('Unnamed: 0',axis=1)\n",
    "\n",
    "kaggle_df = kaggle_df.drop_duplicates(subset=['hash'])\n",
    "kaggle_df = kaggle_df.drop('hash',axis=1)\n",
    "kaggle_df = kaggle_df.rename(columns={\"0\": \"line_0\", \"1\": \"line_1\", \"2\": \"line_2\"})\n",
    "kaggle_df = kaggle_df#[0:2000]"
   ]
  },
  {
   "cell_type": "code",
   "execution_count": 9,
   "id": "db36f89a",
   "metadata": {},
   "outputs": [
    {
     "name": "stdout",
     "output_type": "stream",
     "text": [
      "line_0\n"
     ]
    },
    {
     "name": "stderr",
     "output_type": "stream",
     "text": [
      "/Users/alexander/opt/anaconda3/lib/python3.9/site-packages/nltk/tokenize/sonority_sequencing.py:101: UserWarning: Character not defined in sonority_hierarchy, assigning as vowel: ' '\n",
      "  warnings.warn(\n"
     ]
    },
    {
     "name": "stdout",
     "output_type": "stream",
     "text": [
      "line_1\n",
      "line_2\n"
     ]
    }
   ],
   "source": [
    "lines = ['line_0','line_1','line_2']\n",
    "kaggle_df['valid'] = True\n",
    "for line in lines:\n",
    "    kaggle_df[line] = kaggle_df[line].apply(remove_punctuation)\n",
    "    \n",
    "kaggle_df['valid'] = kaggle_df.apply(check_valid,axis=1)\n",
    "kaggle_df = kaggle_df[kaggle_df['valid']]\n",
    "for line in lines:\n",
    "    print(line)\n",
    "    kaggle_df[line + '_scount'] = kaggle_df.apply(get_syllables,args=(line,),axis=1)"
   ]
  },
  {
   "cell_type": "markdown",
   "id": "e1cd3ce1",
   "metadata": {},
   "source": [
    "# Title Extraction\n",
    "Run TF-IDF on entire corpus to approximate titles"
   ]
  },
  {
   "cell_type": "code",
   "execution_count": 10,
   "id": "dda1350f",
   "metadata": {},
   "outputs": [],
   "source": [
    "#agglamate corpus\n",
    "#poem_lines = kaggle_df[['line_0','line_1','line_2']]\n",
    "poem_lines = kaggle_df['line_0'] + '\\n' + kaggle_df['line_1'] + '\\n' + kaggle_df['line_2'] \n",
    "poem_list = poem_lines.to_list()\n"
   ]
  },
  {
   "cell_type": "code",
   "execution_count": 11,
   "id": "18d501cb",
   "metadata": {},
   "outputs": [
    {
     "data": {
      "text/plain": [
       "['fishing boats\\ncolors of\\nthe rainbow',\n",
       " 'ash wednesday\\ntrying to remember\\nmy dream',\n",
       " 'snowy morn\\npouring another cup\\nof black coffee',\n",
       " 'shortest day\\nflames dance\\nin the oven',\n",
       " 'haze\\nhalf the horse hidden\\nbehind the house',\n",
       " 'low sun\\nthe lady in red\\non high heels',\n",
       " 'advent\\nthe passing stranger\\nfarts',\n",
       " 'tarn\\na bubble in\\nthe ice',\n",
       " 'snowflakes\\nnew asphalt\\nin the holes',\n",
       " 'crystal night\\ngusts of rain\\noutside']"
      ]
     },
     "execution_count": 11,
     "metadata": {},
     "output_type": "execute_result"
    }
   ],
   "source": [
    "poem_list[0:10]"
   ]
  },
  {
   "cell_type": "code",
   "execution_count": 12,
   "id": "39a7987c",
   "metadata": {},
   "outputs": [],
   "source": [
    "\n",
    "# our corpus\n",
    "data = poem_list\n",
    "\n",
    "cv = CountVectorizer()\n",
    "\n",
    "# convert text data into term-frequency matrix\n",
    "data = cv.fit_transform(data)\n",
    "\n",
    "tfidf_transformer = TfidfTransformer()\n",
    "\n",
    "# convert term-frequency matrix into tf-idf\n",
    "tfidf_matrix = tfidf_transformer.fit_transform(data)\n",
    "\n",
    "# create dictionary to find a tfidf word each word\n",
    "word2tfidf = dict(zip(cv.get_feature_names(), tfidf_transformer.idf_))\n",
    "\n"
   ]
  },
  {
   "cell_type": "code",
   "execution_count": 42,
   "id": "bae12eaa",
   "metadata": {},
   "outputs": [
    {
     "ename": "AttributeError",
     "evalue": "'collections.OrderedDict' object has no attribute 'sort'",
     "output_type": "error",
     "traceback": [
      "\u001b[0;31m---------------------------------------------------------------------------\u001b[0m",
      "\u001b[0;31mAttributeError\u001b[0m                            Traceback (most recent call last)",
      "\u001b[0;32m/var/folders/ql/35698m6j55sfgbxr9rn581040000gn/T/ipykernel_35095/2752404368.py\u001b[0m in \u001b[0;36m<module>\u001b[0;34m\u001b[0m\n\u001b[0;32m----> 1\u001b[0;31m \u001b[0midf_dict\u001b[0m\u001b[0;34m.\u001b[0m\u001b[0msort\u001b[0m\u001b[0;34m(\u001b[0m\u001b[0;34m)\u001b[0m\u001b[0;34m\u001b[0m\u001b[0;34m\u001b[0m\u001b[0m\n\u001b[0m",
      "\u001b[0;31mAttributeError\u001b[0m: 'collections.OrderedDict' object has no attribute 'sort'"
     ]
    }
   ],
   "source": [
    "idf_dict"
   ]
  },
  {
   "cell_type": "code",
   "execution_count": 13,
   "id": "c436eea9",
   "metadata": {},
   "outputs": [],
   "source": [
    "articles = ['the','a','at', 'i', 'is', 'and','are','aint','im','you'] #add others, or dont do this isk\n",
    "title_list = []\n",
    "for i in range(len(poem_list)):\n",
    "    idf_dict = collections.OrderedDict()\n",
    "    for word in poem_list[i].split():\n",
    "        if word not in articles:\n",
    "            try: idf_dict[ word2tfidf[word]] = word\n",
    "            except:\n",
    "                #sometimes it doesnt work, doesnt mean infrequent just broken so ignore\n",
    "                continue\n",
    "    curr_title = []\n",
    "    for idf in list(sorted(idf_dict.keys()))[::-1][0:2]:\n",
    "        #print(idf_dict[idf])\n",
    "        curr_title.append(idf_dict[idf])\n",
    "    #curr_title.rstrip()\n",
    "\n",
    "    title_list.append(' '.join(curr_title))\n",
    "    #print('\\n')\n",
    "    "
   ]
  },
  {
   "cell_type": "code",
   "execution_count": 14,
   "id": "69d263de",
   "metadata": {},
   "outputs": [],
   "source": [
    "poem_data = pd.DataFrame(data= {'Poem': poem_list, 'Title': title_list})\n",
    "#poem_data.to_csv(processed_data_dir + 'test_data.csv')"
   ]
  },
  {
   "cell_type": "code",
   "execution_count": 15,
   "id": "d1f3fc85",
   "metadata": {},
   "outputs": [],
   "source": [
    "train_df, test_df = train_test_split(poem_data, test_size=0.05)"
   ]
  },
  {
   "cell_type": "code",
   "execution_count": 16,
   "id": "741b2f62",
   "metadata": {},
   "outputs": [],
   "source": [
    "test_df.to_csv(processed_data_dir + 'test_data.csv')\n",
    "train_df.to_csv(processed_data_dir + 'train_data.csv')"
   ]
  },
  {
   "cell_type": "code",
   "execution_count": 15,
   "id": "a1b5b1f1",
   "metadata": {},
   "outputs": [],
   "source": [
    "kaggle_df.to_csv(processed_data_dir + 'kaggle_data.csv')"
   ]
  },
  {
   "cell_type": "code",
   "execution_count": 17,
   "id": "b81658cb",
   "metadata": {},
   "outputs": [
    {
     "data": {
      "text/html": [
       "<div>\n",
       "<style scoped>\n",
       "    .dataframe tbody tr th:only-of-type {\n",
       "        vertical-align: middle;\n",
       "    }\n",
       "\n",
       "    .dataframe tbody tr th {\n",
       "        vertical-align: top;\n",
       "    }\n",
       "\n",
       "    .dataframe thead th {\n",
       "        text-align: right;\n",
       "    }\n",
       "</style>\n",
       "<table border=\"1\" class=\"dataframe\">\n",
       "  <thead>\n",
       "    <tr style=\"text-align: right;\">\n",
       "      <th></th>\n",
       "      <th>Poem</th>\n",
       "      <th>Title</th>\n",
       "    </tr>\n",
       "  </thead>\n",
       "  <tbody>\n",
       "    <tr>\n",
       "      <th>130995</th>\n",
       "      <td>how can you escape\\nthe saddened failure when ...</td>\n",
       "      <td>saddened burns</td>\n",
       "    </tr>\n",
       "    <tr>\n",
       "      <th>48886</th>\n",
       "      <td>but shoot and rover\\nreally the same song you ...</td>\n",
       "      <td>rover shoot</td>\n",
       "    </tr>\n",
       "    <tr>\n",
       "      <th>67792</th>\n",
       "      <td>listened to robin\\nwilliams stand up on the dr...</td>\n",
       "      <td>williams robin</td>\n",
       "    </tr>\n",
       "    <tr>\n",
       "      <th>11871</th>\n",
       "      <td>lo\\nall our pomp of yesterday\\nis one with nin...</td>\n",
       "      <td>nineveh tyre</td>\n",
       "    </tr>\n",
       "    <tr>\n",
       "      <th>52370</th>\n",
       "      <td>save the date batman\\nand catwoman are getting...</td>\n",
       "      <td>catwoman batman</td>\n",
       "    </tr>\n",
       "    <tr>\n",
       "      <th>...</th>\n",
       "      <td>...</td>\n",
       "      <td>...</td>\n",
       "    </tr>\n",
       "    <tr>\n",
       "      <th>15034</th>\n",
       "      <td>awake and chase this fatal thought\\nunclose\\nt...</td>\n",
       "      <td>unclose fatal</td>\n",
       "    </tr>\n",
       "    <tr>\n",
       "      <th>132734</th>\n",
       "      <td>i really hope this\\nopportunity works out\\nfor...</td>\n",
       "      <td>crossed fingers</td>\n",
       "    </tr>\n",
       "    <tr>\n",
       "      <th>35898</th>\n",
       "      <td>what are the chances\\nof liverpool winning the...</td>\n",
       "      <td>champions chances</td>\n",
       "    </tr>\n",
       "    <tr>\n",
       "      <th>123697</th>\n",
       "      <td>girl your expression\\nis telling me that youve...</td>\n",
       "      <td>expression telling</td>\n",
       "    </tr>\n",
       "    <tr>\n",
       "      <th>13911</th>\n",
       "      <td>for his voice i listen and yearn\\nit is growin...</td>\n",
       "      <td>yearn growing</td>\n",
       "    </tr>\n",
       "  </tbody>\n",
       "</table>\n",
       "<p>7202 rows × 2 columns</p>\n",
       "</div>"
      ],
      "text/plain": [
       "                                                     Poem               Title\n",
       "130995  how can you escape\\nthe saddened failure when ...      saddened burns\n",
       "48886   but shoot and rover\\nreally the same song you ...         rover shoot\n",
       "67792   listened to robin\\nwilliams stand up on the dr...      williams robin\n",
       "11871   lo\\nall our pomp of yesterday\\nis one with nin...        nineveh tyre\n",
       "52370   save the date batman\\nand catwoman are getting...     catwoman batman\n",
       "...                                                   ...                 ...\n",
       "15034   awake and chase this fatal thought\\nunclose\\nt...       unclose fatal\n",
       "132734  i really hope this\\nopportunity works out\\nfor...     crossed fingers\n",
       "35898   what are the chances\\nof liverpool winning the...   champions chances\n",
       "123697  girl your expression\\nis telling me that youve...  expression telling\n",
       "13911   for his voice i listen and yearn\\nit is growin...       yearn growing\n",
       "\n",
       "[7202 rows x 2 columns]"
      ]
     },
     "execution_count": 17,
     "metadata": {},
     "output_type": "execute_result"
    }
   ],
   "source": [
    "test_df"
   ]
  },
  {
   "cell_type": "code",
   "execution_count": 17,
   "id": "fd9b9964",
   "metadata": {},
   "outputs": [
    {
     "data": {
      "text/html": [
       "<div>\n",
       "<style scoped>\n",
       "    .dataframe tbody tr th:only-of-type {\n",
       "        vertical-align: middle;\n",
       "    }\n",
       "\n",
       "    .dataframe tbody tr th {\n",
       "        vertical-align: top;\n",
       "    }\n",
       "\n",
       "    .dataframe thead th {\n",
       "        text-align: right;\n",
       "    }\n",
       "</style>\n",
       "<table border=\"1\" class=\"dataframe\">\n",
       "  <thead>\n",
       "    <tr style=\"text-align: right;\">\n",
       "      <th></th>\n",
       "      <th>line_0</th>\n",
       "      <th>line_1</th>\n",
       "      <th>line_2</th>\n",
       "      <th>source</th>\n",
       "      <th>valid</th>\n",
       "      <th>line_0_scount</th>\n",
       "      <th>line_1_scount</th>\n",
       "      <th>line_2_scount</th>\n",
       "    </tr>\n",
       "  </thead>\n",
       "  <tbody>\n",
       "    <tr>\n",
       "      <th>0</th>\n",
       "      <td>fishing boats</td>\n",
       "      <td>colors of</td>\n",
       "      <td>the rainbow</td>\n",
       "      <td>tempslibres</td>\n",
       "      <td>True</td>\n",
       "      <td>4</td>\n",
       "      <td>3</td>\n",
       "      <td>3</td>\n",
       "    </tr>\n",
       "    <tr>\n",
       "      <th>1</th>\n",
       "      <td>ash wednesday</td>\n",
       "      <td>trying to remember</td>\n",
       "      <td>my dream</td>\n",
       "      <td>tempslibres</td>\n",
       "      <td>True</td>\n",
       "      <td>5</td>\n",
       "      <td>6</td>\n",
       "      <td>2</td>\n",
       "    </tr>\n",
       "    <tr>\n",
       "      <th>2</th>\n",
       "      <td>snowy morn</td>\n",
       "      <td>pouring another cup</td>\n",
       "      <td>of black coffee</td>\n",
       "      <td>tempslibres</td>\n",
       "      <td>True</td>\n",
       "      <td>3</td>\n",
       "      <td>7</td>\n",
       "      <td>6</td>\n",
       "    </tr>\n",
       "    <tr>\n",
       "      <th>3</th>\n",
       "      <td>shortest day</td>\n",
       "      <td>flames dance</td>\n",
       "      <td>in the oven</td>\n",
       "      <td>tempslibres</td>\n",
       "      <td>True</td>\n",
       "      <td>4</td>\n",
       "      <td>5</td>\n",
       "      <td>5</td>\n",
       "    </tr>\n",
       "    <tr>\n",
       "      <th>4</th>\n",
       "      <td>haze</td>\n",
       "      <td>half the horse hidden</td>\n",
       "      <td>behind the house</td>\n",
       "      <td>tempslibres</td>\n",
       "      <td>True</td>\n",
       "      <td>2</td>\n",
       "      <td>7</td>\n",
       "      <td>6</td>\n",
       "    </tr>\n",
       "    <tr>\n",
       "      <th>...</th>\n",
       "      <td>...</td>\n",
       "      <td>...</td>\n",
       "      <td>...</td>\n",
       "      <td>...</td>\n",
       "      <td>...</td>\n",
       "      <td>...</td>\n",
       "      <td>...</td>\n",
       "      <td>...</td>\n",
       "    </tr>\n",
       "    <tr>\n",
       "      <th>144118</th>\n",
       "      <td>im not asking did</td>\n",
       "      <td>you say it nor clarify</td>\n",
       "      <td>what you said neither</td>\n",
       "      <td>twaiku</td>\n",
       "      <td>True</td>\n",
       "      <td>7</td>\n",
       "      <td>10</td>\n",
       "      <td>8</td>\n",
       "    </tr>\n",
       "    <tr>\n",
       "      <th>144119</th>\n",
       "      <td>you are truly a</td>\n",
       "      <td>moron or a liar im</td>\n",
       "      <td>inclined to think both</td>\n",
       "      <td>twaiku</td>\n",
       "      <td>True</td>\n",
       "      <td>7</td>\n",
       "      <td>6</td>\n",
       "      <td>8</td>\n",
       "    </tr>\n",
       "    <tr>\n",
       "      <th>144120</th>\n",
       "      <td>aint no selfie on</td>\n",
       "      <td>this earth thats gonna make me</td>\n",
       "      <td>like theresa may</td>\n",
       "      <td>twaiku</td>\n",
       "      <td>True</td>\n",
       "      <td>6</td>\n",
       "      <td>11</td>\n",
       "      <td>6</td>\n",
       "    </tr>\n",
       "    <tr>\n",
       "      <th>144121</th>\n",
       "      <td>is doing a great</td>\n",
       "      <td>job turning independents</td>\n",
       "      <td>into democrats</td>\n",
       "      <td>twaiku</td>\n",
       "      <td>True</td>\n",
       "      <td>5</td>\n",
       "      <td>8</td>\n",
       "      <td>5</td>\n",
       "    </tr>\n",
       "    <tr>\n",
       "      <th>144122</th>\n",
       "      <td>wanted to send a</td>\n",
       "      <td>quick follow up on if the</td>\n",
       "      <td>blood is loud talk soon</td>\n",
       "      <td>twaiku</td>\n",
       "      <td>True</td>\n",
       "      <td>6</td>\n",
       "      <td>9</td>\n",
       "      <td>8</td>\n",
       "    </tr>\n",
       "  </tbody>\n",
       "</table>\n",
       "<p>144027 rows × 8 columns</p>\n",
       "</div>"
      ],
      "text/plain": [
       "                   line_0                          line_1  \\\n",
       "0           fishing boats                       colors of   \n",
       "1           ash wednesday              trying to remember   \n",
       "2              snowy morn             pouring another cup   \n",
       "3            shortest day                    flames dance   \n",
       "4                    haze           half the horse hidden   \n",
       "...                   ...                             ...   \n",
       "144118  im not asking did          you say it nor clarify   \n",
       "144119    you are truly a              moron or a liar im   \n",
       "144120  aint no selfie on  this earth thats gonna make me   \n",
       "144121   is doing a great        job turning independents   \n",
       "144122   wanted to send a       quick follow up on if the   \n",
       "\n",
       "                         line_2       source  valid  line_0_scount  \\\n",
       "0                   the rainbow  tempslibres   True              4   \n",
       "1                      my dream  tempslibres   True              5   \n",
       "2               of black coffee  tempslibres   True              3   \n",
       "3                   in the oven  tempslibres   True              4   \n",
       "4              behind the house  tempslibres   True              2   \n",
       "...                         ...          ...    ...            ...   \n",
       "144118    what you said neither       twaiku   True              7   \n",
       "144119   inclined to think both       twaiku   True              7   \n",
       "144120         like theresa may       twaiku   True              6   \n",
       "144121           into democrats       twaiku   True              5   \n",
       "144122  blood is loud talk soon       twaiku   True              6   \n",
       "\n",
       "        line_1_scount  line_2_scount  \n",
       "0                   3              3  \n",
       "1                   6              2  \n",
       "2                   7              6  \n",
       "3                   5              5  \n",
       "4                   7              6  \n",
       "...               ...            ...  \n",
       "144118             10              8  \n",
       "144119              6              8  \n",
       "144120             11              6  \n",
       "144121              8              5  \n",
       "144122              9              8  \n",
       "\n",
       "[144027 rows x 8 columns]"
      ]
     },
     "execution_count": 17,
     "metadata": {},
     "output_type": "execute_result"
    }
   ],
   "source": [
    "kaggle_df"
   ]
  },
  {
   "cell_type": "code",
   "execution_count": 25,
   "id": "0e2f5226",
   "metadata": {},
   "outputs": [
    {
     "data": {
      "text/plain": [
       "6.913127399723663"
      ]
     },
     "execution_count": 25,
     "metadata": {},
     "output_type": "execute_result"
    }
   ],
   "source": [
    "(kaggle_df['line_0_scount'])"
   ]
  },
  {
   "cell_type": "markdown",
   "id": "e2d0c4d1",
   "metadata": {},
   "source": [
    "# Plotting statistics of dataset"
   ]
  },
  {
   "cell_type": "code",
   "execution_count": 37,
   "id": "355de799",
   "metadata": {
    "scrolled": true
   },
   "outputs": [
    {
     "data": {
      "image/png": "[encoded data removed]",
      "text/plain": [
       "<Figure size 432x288 with 1 Axes>"
      ]
     },
     "metadata": {
      "needs_background": "light"
     },
     "output_type": "display_data"
    }
   ],
   "source": [
    "import matplotlib.pyplot as plt \n",
    "# Creating plot\n",
    "#triming very large syllable counts to help visualization, remove around 3000 poems\n",
    "kaggle_df_trimmed = kaggle_df[(kaggle_df['line_0_scount'] <= 20)]\n",
    "kaggle_df_trimmed = kaggle_df_trimmed[(kaggle_df_trimmed['line_1_scount'] <= 20)]\n",
    "kaggle_df_trimmed = kaggle_df_trimmed[(kaggle_df_trimmed['line_2_scount'] <= 20)]\n",
    "plt.boxplot([kaggle_df_trimmed['line_0_scount'],kaggle_df_trimmed['line_1_scount'],kaggle_df_trimmed['line_2_scount']])\n",
    "#plt.boxplot(kaggle_df['line_1_scount'])\n",
    " \n",
    "# show plot\n",
    "plt.title(\"Syllable Count Whisker Plots Per line\")\n",
    "plt.xlabel(\"Line\")\n",
    "plt.ylabel(\"Syllables\")\n",
    "plt.show()"
   ]
  },
  {
   "cell_type": "code",
   "execution_count": 63,
   "id": "c9e920fd",
   "metadata": {},
   "outputs": [
    {
     "data": {
      "text/plain": [
       "7.239225978462372"
      ]
     },
     "execution_count": 63,
     "metadata": {},
     "output_type": "execute_result"
    }
   ],
   "source": [
    "np.mean(kaggle_df['line_2_scount'])"
   ]
  },
  {
   "cell_type": "code",
   "execution_count": 160,
   "id": "b2cb3e6f",
   "metadata": {},
   "outputs": [
    {
     "data": {
      "text/html": [
       "<div>\n",
       "<style scoped>\n",
       "    .dataframe tbody tr th:only-of-type {\n",
       "        vertical-align: middle;\n",
       "    }\n",
       "\n",
       "    .dataframe tbody tr th {\n",
       "        vertical-align: top;\n",
       "    }\n",
       "\n",
       "    .dataframe thead th {\n",
       "        text-align: right;\n",
       "    }\n",
       "</style>\n",
       "<table border=\"1\" class=\"dataframe\">\n",
       "  <thead>\n",
       "    <tr style=\"text-align: right;\">\n",
       "      <th></th>\n",
       "      <th>line_0</th>\n",
       "      <th>line_1</th>\n",
       "      <th>line_2</th>\n",
       "      <th>source</th>\n",
       "      <th>valid</th>\n",
       "    </tr>\n",
       "  </thead>\n",
       "  <tbody>\n",
       "    <tr>\n",
       "      <th>0</th>\n",
       "      <td>fishing boats</td>\n",
       "      <td>colors of</td>\n",
       "      <td>the rainbow</td>\n",
       "      <td>tempslibres</td>\n",
       "      <td>True</td>\n",
       "    </tr>\n",
       "    <tr>\n",
       "      <th>1</th>\n",
       "      <td>ash wednesday</td>\n",
       "      <td>trying to remember</td>\n",
       "      <td>my dream</td>\n",
       "      <td>tempslibres</td>\n",
       "      <td>True</td>\n",
       "    </tr>\n",
       "    <tr>\n",
       "      <th>2</th>\n",
       "      <td>snowy morn</td>\n",
       "      <td>pouring another cup</td>\n",
       "      <td>of black coffee</td>\n",
       "      <td>tempslibres</td>\n",
       "      <td>True</td>\n",
       "    </tr>\n",
       "    <tr>\n",
       "      <th>3</th>\n",
       "      <td>shortest day</td>\n",
       "      <td>flames dance</td>\n",
       "      <td>in the oven</td>\n",
       "      <td>tempslibres</td>\n",
       "      <td>True</td>\n",
       "    </tr>\n",
       "    <tr>\n",
       "      <th>4</th>\n",
       "      <td>haze</td>\n",
       "      <td>half the horse hidden</td>\n",
       "      <td>behind the house</td>\n",
       "      <td>tempslibres</td>\n",
       "      <td>True</td>\n",
       "    </tr>\n",
       "    <tr>\n",
       "      <th>...</th>\n",
       "      <td>...</td>\n",
       "      <td>...</td>\n",
       "      <td>...</td>\n",
       "      <td>...</td>\n",
       "      <td>...</td>\n",
       "    </tr>\n",
       "    <tr>\n",
       "      <th>144118</th>\n",
       "      <td>im not asking did</td>\n",
       "      <td>you say it nor clarify</td>\n",
       "      <td>what you said neither</td>\n",
       "      <td>twaiku</td>\n",
       "      <td>True</td>\n",
       "    </tr>\n",
       "    <tr>\n",
       "      <th>144119</th>\n",
       "      <td>you are truly a</td>\n",
       "      <td>moron or a liar im</td>\n",
       "      <td>inclined to think both</td>\n",
       "      <td>twaiku</td>\n",
       "      <td>True</td>\n",
       "    </tr>\n",
       "    <tr>\n",
       "      <th>144120</th>\n",
       "      <td>aint no selfie on</td>\n",
       "      <td>this earth thats gonna make me</td>\n",
       "      <td>like theresa may</td>\n",
       "      <td>twaiku</td>\n",
       "      <td>True</td>\n",
       "    </tr>\n",
       "    <tr>\n",
       "      <th>144121</th>\n",
       "      <td>is doing a great</td>\n",
       "      <td>job turning independents</td>\n",
       "      <td>into democrats</td>\n",
       "      <td>twaiku</td>\n",
       "      <td>True</td>\n",
       "    </tr>\n",
       "    <tr>\n",
       "      <th>144122</th>\n",
       "      <td>wanted to send a</td>\n",
       "      <td>quick follow up on if the</td>\n",
       "      <td>blood is loud talk soon</td>\n",
       "      <td>twaiku</td>\n",
       "      <td>True</td>\n",
       "    </tr>\n",
       "  </tbody>\n",
       "</table>\n",
       "<p>144062 rows × 5 columns</p>\n",
       "</div>"
      ],
      "text/plain": [
       "                   line_0                           line_1  \\\n",
       "0           fishing boats                        colors of   \n",
       "1           ash wednesday              trying to remember    \n",
       "2              snowy morn              pouring another cup   \n",
       "3            shortest day                     flames dance   \n",
       "4                    haze            half the horse hidden   \n",
       "...                   ...                              ...   \n",
       "144118  im not asking did           you say it nor clarify   \n",
       "144119    you are truly a               moron or a liar im   \n",
       "144120  aint no selfie on   this earth thats gonna make me   \n",
       "144121   is doing a great         job turning independents   \n",
       "144122   wanted to send a        quick follow up on if the   \n",
       "\n",
       "                         line_2       source  valid  \n",
       "0                   the rainbow  tempslibres   True  \n",
       "1                      my dream  tempslibres   True  \n",
       "2               of black coffee  tempslibres   True  \n",
       "3                   in the oven  tempslibres   True  \n",
       "4              behind the house  tempslibres   True  \n",
       "...                         ...          ...    ...  \n",
       "144118    what you said neither       twaiku   True  \n",
       "144119   inclined to think both       twaiku   True  \n",
       "144120         like theresa may       twaiku   True  \n",
       "144121           into democrats       twaiku   True  \n",
       "144122  blood is loud talk soon       twaiku   True  \n",
       "\n",
       "[144062 rows x 5 columns]"
      ]
     },
     "execution_count": 160,
     "metadata": {},
     "output_type": "execute_result"
    }
   ],
   "source": [
    "kaggle_df"
   ]
  },
  {
   "cell_type": "code",
   "execution_count": 340,
   "id": "f32d8fbf",
   "metadata": {},
   "outputs": [
    {
     "name": "stdout",
     "output_type": "stream",
     "text": [
      "data_processing.ipynb  \u001b[34mdata_raw\u001b[m\u001b[m/              \u001b[34mprocessed_data_dir\u001b[m\u001b[m/\r\n"
     ]
    }
   ],
   "source": [
    "ls"
   ]
  },
  {
   "cell_type": "code",
   "execution_count": 344,
   "id": "cbcdfd30",
   "metadata": {},
   "outputs": [],
   "source": [
    "mkdir data"
   ]
  },
  {
   "cell_type": "code",
   "execution_count": 38,
   "id": "7a8d556f",
   "metadata": {},
   "outputs": [
    {
     "data": {
      "text/html": [
       "<div>\n",
       "<style scoped>\n",
       "    .dataframe tbody tr th:only-of-type {\n",
       "        vertical-align: middle;\n",
       "    }\n",
       "\n",
       "    .dataframe tbody tr th {\n",
       "        vertical-align: top;\n",
       "    }\n",
       "\n",
       "    .dataframe thead th {\n",
       "        text-align: right;\n",
       "    }\n",
       "</style>\n",
       "<table border=\"1\" class=\"dataframe\">\n",
       "  <thead>\n",
       "    <tr style=\"text-align: right;\">\n",
       "      <th></th>\n",
       "      <th>line_0</th>\n",
       "      <th>line_1</th>\n",
       "      <th>line_2</th>\n",
       "      <th>source</th>\n",
       "      <th>valid</th>\n",
       "      <th>line_0_scount</th>\n",
       "      <th>line_1_scount</th>\n",
       "      <th>line_2_scount</th>\n",
       "    </tr>\n",
       "  </thead>\n",
       "  <tbody>\n",
       "    <tr>\n",
       "      <th>0</th>\n",
       "      <td>fishing boats</td>\n",
       "      <td>colors of</td>\n",
       "      <td>the rainbow</td>\n",
       "      <td>tempslibres</td>\n",
       "      <td>True</td>\n",
       "      <td>4</td>\n",
       "      <td>3</td>\n",
       "      <td>3</td>\n",
       "    </tr>\n",
       "    <tr>\n",
       "      <th>1</th>\n",
       "      <td>ash wednesday</td>\n",
       "      <td>trying to remember</td>\n",
       "      <td>my dream</td>\n",
       "      <td>tempslibres</td>\n",
       "      <td>True</td>\n",
       "      <td>5</td>\n",
       "      <td>6</td>\n",
       "      <td>2</td>\n",
       "    </tr>\n",
       "    <tr>\n",
       "      <th>2</th>\n",
       "      <td>snowy morn</td>\n",
       "      <td>pouring another cup</td>\n",
       "      <td>of black coffee</td>\n",
       "      <td>tempslibres</td>\n",
       "      <td>True</td>\n",
       "      <td>3</td>\n",
       "      <td>7</td>\n",
       "      <td>6</td>\n",
       "    </tr>\n",
       "    <tr>\n",
       "      <th>3</th>\n",
       "      <td>shortest day</td>\n",
       "      <td>flames dance</td>\n",
       "      <td>in the oven</td>\n",
       "      <td>tempslibres</td>\n",
       "      <td>True</td>\n",
       "      <td>4</td>\n",
       "      <td>5</td>\n",
       "      <td>5</td>\n",
       "    </tr>\n",
       "    <tr>\n",
       "      <th>4</th>\n",
       "      <td>haze</td>\n",
       "      <td>half the horse hidden</td>\n",
       "      <td>behind the house</td>\n",
       "      <td>tempslibres</td>\n",
       "      <td>True</td>\n",
       "      <td>2</td>\n",
       "      <td>7</td>\n",
       "      <td>6</td>\n",
       "    </tr>\n",
       "    <tr>\n",
       "      <th>...</th>\n",
       "      <td>...</td>\n",
       "      <td>...</td>\n",
       "      <td>...</td>\n",
       "      <td>...</td>\n",
       "      <td>...</td>\n",
       "      <td>...</td>\n",
       "      <td>...</td>\n",
       "      <td>...</td>\n",
       "    </tr>\n",
       "    <tr>\n",
       "      <th>144118</th>\n",
       "      <td>im not asking did</td>\n",
       "      <td>you say it nor clarify</td>\n",
       "      <td>what you said neither</td>\n",
       "      <td>twaiku</td>\n",
       "      <td>True</td>\n",
       "      <td>7</td>\n",
       "      <td>10</td>\n",
       "      <td>8</td>\n",
       "    </tr>\n",
       "    <tr>\n",
       "      <th>144119</th>\n",
       "      <td>you are truly a</td>\n",
       "      <td>moron or a liar im</td>\n",
       "      <td>inclined to think both</td>\n",
       "      <td>twaiku</td>\n",
       "      <td>True</td>\n",
       "      <td>7</td>\n",
       "      <td>6</td>\n",
       "      <td>8</td>\n",
       "    </tr>\n",
       "    <tr>\n",
       "      <th>144120</th>\n",
       "      <td>aint no selfie on</td>\n",
       "      <td>this earth thats gonna make me</td>\n",
       "      <td>like theresa may</td>\n",
       "      <td>twaiku</td>\n",
       "      <td>True</td>\n",
       "      <td>6</td>\n",
       "      <td>11</td>\n",
       "      <td>6</td>\n",
       "    </tr>\n",
       "    <tr>\n",
       "      <th>144121</th>\n",
       "      <td>is doing a great</td>\n",
       "      <td>job turning independents</td>\n",
       "      <td>into democrats</td>\n",
       "      <td>twaiku</td>\n",
       "      <td>True</td>\n",
       "      <td>5</td>\n",
       "      <td>8</td>\n",
       "      <td>5</td>\n",
       "    </tr>\n",
       "    <tr>\n",
       "      <th>144122</th>\n",
       "      <td>wanted to send a</td>\n",
       "      <td>quick follow up on if the</td>\n",
       "      <td>blood is loud talk soon</td>\n",
       "      <td>twaiku</td>\n",
       "      <td>True</td>\n",
       "      <td>6</td>\n",
       "      <td>9</td>\n",
       "      <td>8</td>\n",
       "    </tr>\n",
       "  </tbody>\n",
       "</table>\n",
       "<p>141819 rows × 8 columns</p>\n",
       "</div>"
      ],
      "text/plain": [
       "                   line_0                          line_1  \\\n",
       "0           fishing boats                       colors of   \n",
       "1           ash wednesday              trying to remember   \n",
       "2              snowy morn             pouring another cup   \n",
       "3            shortest day                    flames dance   \n",
       "4                    haze           half the horse hidden   \n",
       "...                   ...                             ...   \n",
       "144118  im not asking did          you say it nor clarify   \n",
       "144119    you are truly a              moron or a liar im   \n",
       "144120  aint no selfie on  this earth thats gonna make me   \n",
       "144121   is doing a great        job turning independents   \n",
       "144122   wanted to send a       quick follow up on if the   \n",
       "\n",
       "                         line_2       source  valid  line_0_scount  \\\n",
       "0                   the rainbow  tempslibres   True              4   \n",
       "1                      my dream  tempslibres   True              5   \n",
       "2               of black coffee  tempslibres   True              3   \n",
       "3                   in the oven  tempslibres   True              4   \n",
       "4              behind the house  tempslibres   True              2   \n",
       "...                         ...          ...    ...            ...   \n",
       "144118    what you said neither       twaiku   True              7   \n",
       "144119   inclined to think both       twaiku   True              7   \n",
       "144120         like theresa may       twaiku   True              6   \n",
       "144121           into democrats       twaiku   True              5   \n",
       "144122  blood is loud talk soon       twaiku   True              6   \n",
       "\n",
       "        line_1_scount  line_2_scount  \n",
       "0                   3              3  \n",
       "1                   6              2  \n",
       "2                   7              6  \n",
       "3                   5              5  \n",
       "4                   7              6  \n",
       "...               ...            ...  \n",
       "144118             10              8  \n",
       "144119              6              8  \n",
       "144120             11              6  \n",
       "144121              8              5  \n",
       "144122              9              8  \n",
       "\n",
       "[141819 rows x 8 columns]"
      ]
     },
     "execution_count": 38,
     "metadata": {},
     "output_type": "execute_result"
    }
   ],
   "source": [
    "kaggle_df_trimmed"
   ]
  },
  {
   "cell_type": "code",
   "execution_count": null,
   "id": "7cf0436e",
   "metadata": {},
   "outputs": [],
   "source": [
    "gpt3_poems = ['em doesnt\\nunderstand the feelings\\nof my heart',\n",
    "             ' aller sickness\\nscrubbing the walls clean\\nof all its dust',\n",
    "            ' mississippi sky\\ntornado of thoughts\\nwhirling in the wind',\n",
    "            'physician s touch\\nmoreover, a caring heart\\nfor healing wounds',\n",
    "            'marlon leagues\\nbatting and fielding\\nthe diamond glistens',\n",
    "            'professor s hour\\nstudents ponder in silence\\nquestions of knowledge',\n",
    "            'teamwork warriors\\nunited in spirit\\nvictory is ours!',\n",
    "            'connect four kills\\nplaying the game of life\\njust for the thrill',\n",
    "             'max stupidity\\nblindly following rules\\njust won t do',\n",
    "             'suggest ourselves\\nto take a break\\nfrom the daily grind'\n",
    "            ]"
   ]
  }
 ],
 "metadata": {
  "kernelspec": {
   "display_name": "Python 3 (ipykernel)",
   "language": "python",
   "name": "python3"
  },
  "language_info": {
   "codemirror_mode": {
    "name": "ipython",
    "version": 3
   },
   "file_extension": ".py",
   "mimetype": "text/x-python",
   "name": "python",
   "nbconvert_exporter": "python",
   "pygments_lexer": "ipython3",
   "version": "3.9.7"
  }
 },
 "nbformat": 4,
 "nbformat_minor": 5
}
